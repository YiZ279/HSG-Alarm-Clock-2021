{
 "cells": [
  {
   "cell_type": "markdown",
   "metadata": {},
   "source": [
    "# HSG Alarm Clock - Never be late again!"
   ]
  },
  {
   "cell_type": "markdown",
   "metadata": {},
   "source": [
    "## About the Project\n",
    "\n",
    "The programme helps HSG students to never run late for uni anymore and saves them from the struggles of walking up the hill. Most students who live in the city centre of St. Gallen need to walk to university or take the bus number 5 or 9 from the train station. With regard to the convenience, bus number 9 is favoured by most of the students as it stops right next to uni.\n",
    "\n",
    "The program offer students a special alarm setting system by providing the following features: First, the user is asked to tick a box if he/she wants to go to university. If the user does not tick the box then the time he/she indicates is the time of the alarm. Here, the program can be used as a regular alarm clock. If the user goes to the uni, they have to input the time they need to be at university. Furthermore, the user is asked how long they need to get ready by inputting the necessary hours and minutes. This includes time for the travel to the bus station, morning routines, reminders etc. The programme compares the arrival times of the bus number 9 at the unversity (departing from the train station) to the indicated preferred arrival time of the user at univerity and picks the bus, which has the closest arrival time. Based on the bus schedule, the bus needs six minutes to get from the train station to the unversity. The departure time of the student is calculated by deducting 6 minutes from the arrival time of Bus 9 at uni. From this departure time, the programme deducts the time it takes the user to get ready. The output is the time of the alarm. To customize the alarm ringing tone, the user can choose to input an url (e.g. Youtube Link)."
   ]
  },
  {
   "cell_type": "markdown",
   "metadata": {},
   "source": [
    "### Import necessary libraries"
   ]
  },
  {
   "cell_type": "code",
   "execution_count": 3,
   "metadata": {},
   "outputs": [],
   "source": [
    "from datetime import datetime\n",
    "import time\n",
    "import webbrowser\n",
    "\n",
    "# libraries needed for the interface\n",
    "from tkinter import *   #needed for interface\n",
    "from tkinter import ttk #needed for interface\n",
    "from tkinter.ttk import *   #needed for interface"
   ]
  },
  {
   "cell_type": "markdown",
   "metadata": {},
   "source": [
    "### Greet the User"
   ]
  },
  {
   "cell_type": "code",
   "execution_count": 8,
   "metadata": {},
   "outputs": [
    {
     "name": "stdout",
     "output_type": "stream",
     "text": [
      "Good morning! Bom dia! Guten Morgen! Buenos Dias! Bonjour! 早上好!\n"
     ]
    }
   ],
   "source": [
    "# Greet the user depending on the time of the day\n",
    "currentTime = datetime.now()\n",
    "currentTime.hour\n",
    "\n",
    "if currentTime.hour < 12:\n",
    "    print('Good morning! Bom dia! Guten Morgen! Buenos Dias! Bonjour! 早上好!')\n",
    "elif 12 <= currentTime.hour < 18:\n",
    "    print('Good afternoon! Boa tarde! Guten Nachmittag! Buenas tardes! Bonjour! 下午好!')\n",
    "else:\n",
    "    print('Good evening! Boa noite! Guten Abend! Buenas noches! Bon soir! 晚上好!')"
   ]
  },
  {
   "cell_type": "markdown",
   "metadata": {},
   "source": [
    "### Define main function"
   ]
  },
  {
   "cell_type": "code",
   "execution_count": 9,
   "metadata": {},
   "outputs": [],
   "source": [
    "def setalarm():     \n",
    "    # Assign variables and get data from the interface\n",
    "    url = t.get(\"1.0\", END)\n",
    "    university = var.get()\n",
    "    arrivingtime = \"%s:%s\"%(combobox_h.get(),combobox_m.get()) \n",
    "    current_time = datetime.strftime(datetime.now(),\"%H:%M:%S\")\n",
    "    \n",
    "    # format used throughout the exercise HH:MM\n",
    "    format = '%H:%M'    \n",
    "    \n",
    "    # Option 1: User goes to university (box checked)\n",
    "    if university == 1: \n",
    "        # Convert arriving time to the right format form string\n",
    "        arriving_time_format = datetime.strptime(arrivingtime, format) \n",
    "        # Weekday Bus schedle of Bus 9 to Univerity\n",
    "        bus_arriving_schedule = ['00:03', '00:48', '05:39', '05:53', '06:03', '06:13', '06:23', '06:39', '06:43', '06:53', '07:03', '07:13', '07:23', '07:39', '07:43', '07:53', '08:03', '08:13', '08:23', '08:39', '08:43', '08:53', '09:03', '09:23', '09:43', '10:03', '10:23', '10:43', '11:03', '11:23', '11:43', '11:53', '12:03', '13:13', '13:23', '13:39', '13:43', '13:53', '14:03', '14:23', '14:43', '15:03', '15:23', '15:43', '16:03', '16:23', '16:43', '16:53', '17:03', '17:13', '17:23', '17:39', '17:43', '17:53', '18:03', '18:13', '18:23', '18:39', '18:43', '18:53', '19:03', '19:13', '19:23', '19:39', '19:43', '19:53', '20:23', '20:43', '21:03', '21:23', '21:43', '22:03', '22:23', '22:43', '23:03', '23:23', '23:43']               \n",
    "        # Duration the bus takes from the St. Gallen train station to university\n",
    "        bus_length = '00:06'\n",
    "        # Create new list that includes all busses that arrive on time at the university\n",
    "        goodbuslist=[]  \n",
    "        for i in range(len(bus_arriving_schedule)):\n",
    "            # Convert bus arrival times to right format to be able to compare it in the next line\n",
    "            bus_arriving_time = datetime.strptime(bus_arriving_schedule[i], format)  \n",
    "            # Append all buses that arrive prior to the designated time at uni to the list\n",
    "            if bus_arriving_time <= arriving_time_format:\n",
    "                goodbuslist.append(bus_arriving_schedule[i])\n",
    "        # The bus with the maximum time in the list is chosen as the best option (i.e the bus that arrives just in time before your planned arrival time)\n",
    "        bestbus = max(goodbuslist) \n",
    "        # To calculate the departure time, we deduct 6 minutes from the arrival time of the bus at uni, which is the time it takes the bus to get to uni from the train station.\n",
    "        bus_to_take = datetime.strptime(bestbus, format) - datetime.strptime(bus_length, format)\n",
    "        bus_to_take_short = str(bus_to_take)[:5]\n",
    " \n",
    "        # Get data from the interface: Time (hours and minutes) the user need to get ready for departure.\n",
    "        diff = \"%s:%s\"%(combobox_ready_h.get(),combobox_ready_m.get()) \n",
    "        # Determines the alarm time by deducting the time needed to be ready from the departure of the last bus\n",
    "        alarmtime = datetime.strptime(bus_to_take_short, format) - datetime.strptime(diff, format)  \n",
    "        alarmtime=str(alarmtime) \n",
    "        \n",
    "        # Close interface\n",
    "        master.destroy()\n",
    "        \n",
    "        # Print times\n",
    "        print('\\033[1;32;40m The latest bus to arrive on time leaves the St. Gallen Bahnhof at', bus_to_take_short)\n",
    "        print(\"\\033[1;32;40m Alarm has been set to %s to arrive on time to catch the bus!\"%(alarmtime)) \n",
    "        # Freezes the function for 5 seconds so user have a chance to read output\n",
    "        time.sleep(5)   \n",
    "        \n",
    "        # Create infinite loop until condition is met\n",
    "        while True: \n",
    "            # Freezes the function for a second so the same thing is not repeated multiple times in one second, only once\n",
    "            time.sleep(1)   \n",
    "            #current time in main format used for comparison with alarmtime\n",
    "            current_time = datetime.strftime(datetime.now(),format)\n",
    "            #current time including seconds for display in the terminal\n",
    "            current_time_display = datetime.strftime(datetime.now(),\"%H:%M:%S\") \n",
    "            print(\"\\033[1;32;40m Current time is %s. Do not worry, I will remember you to get ready at %s. The latest bus leaves the St. Gallen Bahnhof at %s.\"%(current_time_display,alarmtime,bus_to_take_short))\n",
    "            \n",
    "            # Condition: check if alarm is equal to the current time\n",
    "            if current_time == alarmtime:\n",
    "                print(\"\\033[1;32;40m It is time to get going!\") \n",
    "                # Plays alarm ring tone by opening the link/url (if you have a Macbook make sure safari is your defualt browser to immediately trigger the music being played)\n",
    "                webbrowser.open(url) \n",
    "                break\n",
    "                \n",
    "                \n",
    "    # Option 2: User does not go to university\n",
    "    elif university == 0: \n",
    "        # Close interface\n",
    "        master.destroy()    \n",
    "        print(\"\\033[1;32;40m Alarm has been set to %s!\"%(arrivingtime)) \n",
    "        # Converts arrivingtime to string\n",
    "        arrivingtime=str(arrivingtime)  \n",
    "        # Freezes the function for 5 seconds so user has a chance to read output\n",
    "        time.sleep(5)           \n",
    "        \n",
    "        while True:             \n",
    "            # Freezes the function for a second so the same thing is not repeated multiple times in one second, only once\n",
    "            time.sleep(1)   \n",
    "            current_time = datetime.strftime(datetime.now(), format) \n",
    "            current_time_display = datetime.strftime(datetime.now(),\"%H:%M:%S\")\n",
    "            print(\"\\033[1;32;40m Current time is %s. Do not worry, I will wake you up at %s\"%(current_time_display,arrivingtime)) \n",
    "            # Condition: check if alarm is equal to the current time\n",
    "            if current_time == arrivingtime: \n",
    "                print(\"\\033[1;32;40m It is time to wake up!\")\n",
    "                webbrowser.open(url)\n",
    "                break"
   ]
  },
  {
   "cell_type": "markdown",
   "metadata": {},
   "source": [
    "###  Create interface window"
   ]
  },
  {
   "cell_type": "code",
   "execution_count": 10,
   "metadata": {},
   "outputs": [],
   "source": [
    "# Create object\n",
    "master = Tk()  \n",
    "\n",
    "# Set geometry\n",
    "master.geometry(\"450x450\") \n",
    "\n",
    "# Add current time to the interface\n",
    "now_string = time.strftime('%H:%M') \n",
    "\n",
    "# Add labels, frame, button and optionmenus\n",
    "# Labels\n",
    "label_2 = Label(master, text = now_string)  \n",
    "label_2.pack(side = TOP, pady = 10) \n",
    "label_5 = Label(master, text =\"Arrival time to Uni / Wake up time if stay at home\")\n",
    "label_5.pack(side = TOP)\n",
    "\n",
    "# Hour\n",
    "combobox_h = StringVar(master) \n",
    "combobox_h.set(\"HH\")\n",
    "h = ttk.Combobox(master, textvariable=combobox_h, values=['00', '01', '02', '03', '04', '05', '06', '07', '08', '09', '10', '11', '12', '13', '14', '15', '16', '17', '18', '19', '20', '21', '22', '23', '24'])\n",
    "h.pack()\n",
    "\n",
    "# Minute\n",
    "combobox_m = StringVar(master)  \n",
    "combobox_m.set(\"MM\") \n",
    "m = ttk.Combobox(master, textvariable=combobox_m, values=['00', '01', '02', '03', '04', '05', '06', '07', '08', '09', '10', '11', '12', '13', '14', '15', '16', '17', '18', '19', '20', '21', '22', '23', '24', '25', '26', '27', '28', '29', '30', '31', '32', '33', '34', '35', '36', '37', '38', '39', '40', '41', '42', '43', '44', '45', '46', '47', '48', '49', '50', '51', '52', '53', '54', '55', '56', '57', '58', '59', '60'])    \n",
    "m.pack()\n",
    "\n",
    "# Checkbox feature - University Yes or No\n",
    "var = IntVar()  \n",
    "check = Checkbutton(master, text = \"Going to University\", variable=var) \n",
    "check.pack(pady = 10)   \n",
    "\n",
    "# Label\n",
    "label_3 = Label(master, text =\"IF you to to uni, set time necessary to go to bus stop\") \n",
    "label_3.pack(side = TOP)    \n",
    "\n",
    "# Hour\n",
    "combobox_ready_h = StringVar(master)    \n",
    "combobox_ready_h.set(\"HH\") \n",
    "ready_h = ttk.Combobox(master, textvariable=combobox_ready_h, values=['00', '01', '02', '03', '04', '05', '06', '07', '08', '09', '10', '11', '12', '13', '14', '15', '16', '17', '18', '19', '20', '21', '22', '23', '24'])   \n",
    "ready_h.pack()\n",
    "\n",
    "# Minute\n",
    "combobox_ready_m = StringVar(master)    \n",
    "combobox_ready_m.set(\"MM\") \n",
    "ready_m = ttk.Combobox(master, textvariable=combobox_ready_m, values=['00', '01', '02', '03', '04', '05', '06', '07', '08', '09', '10', '11', '12', '13', '14', '15', '16', '17', '18', '19', '20', '21', '22', '23', '24', '25', '26', '27', '28', '29', '30', '31', '32', '33', '34', '35', '36', '37', '38', '39', '40', '41', '42', '43', '44', '45', '46', '47', '48', '49', '50', '51', '52', '53', '54', '55', '56', '57', '58', '59', '60'])\n",
    "ready_m.pack()\n",
    "\n",
    "# Set Alarm button\n",
    "btn = Button(master, text =\"Set alarm\", command=setalarm) \n",
    "btn.pack(pady = 10) \n",
    "options_h = StringVar(master)\n",
    "\n",
    "# Input of url for the alarm rong tone\n",
    "label_4 = Label(master, text =\"Paste the URL of your favorite song\")     \n",
    "label_4.pack(pady = 10) #position of label_4\n",
    "t = Text(master, height=1, width=30)\n",
    "# Default song, to be used in case the user does not provide any preference for the ringtone of the alarm\n",
    "t.insert(END,\"https://www.youtube.com/watch?v=1y6smkh6c-0&list=RDGMEMYH9CUrFO7CfLJpaD7UR85wVMfoE1mO2yM04&index=10\") \n",
    "t.pack()\n",
    "\n",
    "mainloop()"
   ]
  },
  {
   "cell_type": "code",
   "execution_count": null,
   "metadata": {},
   "outputs": [],
   "source": []
  },
  {
   "cell_type": "code",
   "execution_count": null,
   "metadata": {},
   "outputs": [],
   "source": []
  }
 ],
 "metadata": {
  "kernelspec": {
   "display_name": "Python 3",
   "language": "python",
   "name": "python3"
  },
  "language_info": {
   "codemirror_mode": {
    "name": "ipython",
    "version": 3
   },
   "file_extension": ".py",
   "mimetype": "text/x-python",
   "name": "python",
   "nbconvert_exporter": "python",
   "pygments_lexer": "ipython3",
   "version": "3.7.3"
  }
 },
 "nbformat": 4,
 "nbformat_minor": 2
}
